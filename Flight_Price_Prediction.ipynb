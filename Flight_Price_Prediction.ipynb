{
 "cells": [
  {
   "cell_type": "code",
   "execution_count": null,
   "metadata": {
    "id": "gn926wFQvA6m"
   },
   "outputs": [
    {
     "ename": "",
     "evalue": "",
     "output_type": "error",
     "traceback": [
      "\u001b[1;31mRunning cells with 'c:\\Windows\\py.exe' requires the ipykernel package.\n",
      "\u001b[1;31mRun the following command to install 'ipykernel' into the Python environment. \n",
      "\u001b[1;31mCommand: 'c:/Windows/py.exe -m pip install ipykernel -U --user --force-reinstall'"
     ]
    }
   ],
   "source": [
    "# Importing libraries"
   ]
  },
  {
   "cell_type": "code",
   "execution_count": null,
   "metadata": {
    "id": "Ixd--sXixY8F"
   },
   "outputs": [
    {
     "ename": "",
     "evalue": "",
     "output_type": "error",
     "traceback": [
      "\u001b[1;31mRunning cells with 'c:\\Windows\\py.exe' requires the ipykernel package.\n",
      "\u001b[1;31mRun the following command to install 'ipykernel' into the Python environment. \n",
      "\u001b[1;31mCommand: 'c:/Windows/py.exe -m pip install ipykernel -U --user --force-reinstall'"
     ]
    }
   ],
   "source": [
    "import pandas as pd\n",
    "import numpy as np\n",
    "import seaborn as sns\n",
    "import scipy as sp\n",
    "import matplotlib.pyplot as plt\n",
    "import scipy.stats as stats\n",
    "%matplotlib inline\n",
    "import warnings\n",
    "from sklearn.preprocessing import OneHotEncoder\n",
    "from sklearn.feature_selection import mutual_info_regression\n",
    "warnings.filterwarnings('ignore')\n",
    "pd.set_option('display.max_columns',None)"
   ]
  },
  {
   "cell_type": "code",
   "execution_count": null,
   "metadata": {},
   "outputs": [
    {
     "ename": "",
     "evalue": "",
     "output_type": "error",
     "traceback": [
      "\u001b[1;31mRunning cells with 'c:\\Windows\\py.exe' requires the ipykernel package.\n",
      "\u001b[1;31mRun the following command to install 'ipykernel' into the Python environment. \n",
      "\u001b[1;31mCommand: 'c:/Windows/py.exe -m pip install ipykernel -U --user --force-reinstall'"
     ]
    }
   ],
   "source": [
    "# Reading the dataset"
   ]
  },
  {
   "cell_type": "code",
   "execution_count": null,
   "metadata": {
    "colab": {
     "base_uri": "https://localhost:8080/",
     "height": 206
    },
    "id": "c_FLz_32xjzo",
    "outputId": "142f8b84-e045-43bb-8ba2-67b0c36abb11"
   },
   "outputs": [
    {
     "ename": "",
     "evalue": "",
     "output_type": "error",
     "traceback": [
      "\u001b[1;31mRunning cells with 'c:\\Windows\\py.exe' requires the ipykernel package.\n",
      "\u001b[1;31mRun the following command to install 'ipykernel' into the Python environment. \n",
      "\u001b[1;31mCommand: 'c:/Windows/py.exe -m pip install ipykernel -U --user --force-reinstall'"
     ]
    }
   ],
   "source": [
    "df = pd.read_csv('Clean_Dataset.csv')\n",
    "\n",
    "df.head()"
   ]
  },
  {
   "cell_type": "code",
   "execution_count": null,
   "metadata": {
    "colab": {
     "base_uri": "https://localhost:8080/",
     "height": 206
    },
    "id": "8MSOL24s08U4",
    "outputId": "d8d78685-4951-4440-8887-d372c5beb3be"
   },
   "outputs": [
    {
     "ename": "",
     "evalue": "",
     "output_type": "error",
     "traceback": [
      "\u001b[1;31mRunning cells with 'c:\\Windows\\py.exe' requires the ipykernel package.\n",
      "\u001b[1;31mRun the following command to install 'ipykernel' into the Python environment. \n",
      "\u001b[1;31mCommand: 'c:/Windows/py.exe -m pip install ipykernel -U --user --force-reinstall'"
     ]
    }
   ],
   "source": [
    "# 'Unnamed' column is of no use so we are dropping it\n",
    "df = df.drop('Unnamed: 0', axis=1)\n",
    "df.head()\n"
   ]
  },
  {
   "cell_type": "code",
   "execution_count": null,
   "metadata": {
    "colab": {
     "base_uri": "https://localhost:8080/"
    },
    "id": "A4c9U7M11Pst",
    "outputId": "f4475854-d7c5-4e8d-b22a-acac0ca3fd8e"
   },
   "outputs": [
    {
     "ename": "",
     "evalue": "",
     "output_type": "error",
     "traceback": [
      "\u001b[1;31mRunning cells with 'c:\\Windows\\py.exe' requires the ipykernel package.\n",
      "\u001b[1;31mRun the following command to install 'ipykernel' into the Python environment. \n",
      "\u001b[1;31mCommand: 'c:/Windows/py.exe -m pip install ipykernel -U --user --force-reinstall'"
     ]
    }
   ],
   "source": [
    "df.shape"
   ]
  },
  {
   "cell_type": "markdown",
   "metadata": {
    "id": "nbIgMGLC1ide"
   },
   "source": [
    "In the data, there are 300153 observations with 11 features.\n",
    "\n"
   ]
  },
  {
   "cell_type": "code",
   "execution_count": null,
   "metadata": {
    "colab": {
     "base_uri": "https://localhost:8080/"
    },
    "id": "hOWeMYJw1pZ1",
    "outputId": "0d5200ff-5f78-4d3b-e37c-3445f1aa905d"
   },
   "outputs": [
    {
     "ename": "",
     "evalue": "",
     "output_type": "error",
     "traceback": [
      "\u001b[1;31mRunning cells with 'c:\\Windows\\py.exe' requires the ipykernel package.\n",
      "\u001b[1;31mRun the following command to install 'ipykernel' into the Python environment. \n",
      "\u001b[1;31mCommand: 'c:/Windows/py.exe -m pip install ipykernel -U --user --force-reinstall'"
     ]
    }
   ],
   "source": [
    "df.info()"
   ]
  },
  {
   "cell_type": "code",
   "execution_count": null,
   "metadata": {
    "colab": {
     "base_uri": "https://localhost:8080/"
    },
    "id": "3A0zNAMs17CQ",
    "outputId": "ecae5a8d-2c6d-4769-eca0-55b3155e752b"
   },
   "outputs": [
    {
     "ename": "",
     "evalue": "",
     "output_type": "error",
     "traceback": [
      "\u001b[1;31mRunning cells with 'c:\\Windows\\py.exe' requires the ipykernel package.\n",
      "\u001b[1;31mRun the following command to install 'ipykernel' into the Python environment. \n",
      "\u001b[1;31mCommand: 'c:/Windows/py.exe -m pip install ipykernel -U --user --force-reinstall'"
     ]
    }
   ],
   "source": [
    "df.isna().sum()"
   ]
  },
  {
   "cell_type": "code",
   "execution_count": null,
   "metadata": {},
   "outputs": [
    {
     "ename": "",
     "evalue": "",
     "output_type": "error",
     "traceback": [
      "\u001b[1;31mRunning cells with 'c:\\Windows\\py.exe' requires the ipykernel package.\n",
      "\u001b[1;31mRun the following command to install 'ipykernel' into the Python environment. \n",
      "\u001b[1;31mCommand: 'c:/Windows/py.exe -m pip install ipykernel -U --user --force-reinstall'"
     ]
    }
   ],
   "source": [
    "# There is no missing value in the data."
   ]
  },
  {
   "cell_type": "code",
   "execution_count": null,
   "metadata": {
    "colab": {
     "base_uri": "https://localhost:8080/",
     "height": 206
    },
    "id": "F2pyehBz2Pz5",
    "outputId": "f3f0deb3-04c4-4daf-f496-81d045cf5927"
   },
   "outputs": [
    {
     "ename": "",
     "evalue": "",
     "output_type": "error",
     "traceback": [
      "\u001b[1;31mRunning cells with 'c:\\Windows\\py.exe' requires the ipykernel package.\n",
      "\u001b[1;31mRun the following command to install 'ipykernel' into the Python environment. \n",
      "\u001b[1;31mCommand: 'c:/Windows/py.exe -m pip install ipykernel -U --user --force-reinstall'"
     ]
    }
   ],
   "source": [
    "numerical_features = [numeric for numeric in df.columns if df[numeric].dtype != 'O']\n",
    "df[numerical_features].head()"
   ]
  },
  {
   "cell_type": "code",
   "execution_count": null,
   "metadata": {},
   "outputs": [
    {
     "ename": "",
     "evalue": "",
     "output_type": "error",
     "traceback": [
      "\u001b[1;31mRunning cells with 'c:\\Windows\\py.exe' requires the ipykernel package.\n",
      "\u001b[1;31mRun the following command to install 'ipykernel' into the Python environment. \n",
      "\u001b[1;31mCommand: 'c:/Windows/py.exe -m pip install ipykernel -U --user --force-reinstall'"
     ]
    }
   ],
   "source": [
    "# There are 3 numeric features in the data: duration, days_left and price."
   ]
  },
  {
   "cell_type": "code",
   "execution_count": null,
   "metadata": {
    "colab": {
     "base_uri": "https://localhost:8080/",
     "height": 206
    },
    "id": "CFyCUped2Xcq",
    "outputId": "2a76b1ef-2947-46c6-8861-f92948bf5742"
   },
   "outputs": [
    {
     "ename": "",
     "evalue": "",
     "output_type": "error",
     "traceback": [
      "\u001b[1;31mRunning cells with 'c:\\Windows\\py.exe' requires the ipykernel package.\n",
      "\u001b[1;31mRun the following command to install 'ipykernel' into the Python environment. \n",
      "\u001b[1;31mCommand: 'c:/Windows/py.exe -m pip install ipykernel -U --user --force-reinstall'"
     ]
    }
   ],
   "source": [
    "categorical_features = [categoric for categoric in df.columns if df[categoric].dtype == 'O']\n",
    "df[categorical_features].head()"
   ]
  },
  {
   "cell_type": "code",
   "execution_count": null,
   "metadata": {},
   "outputs": [
    {
     "ename": "",
     "evalue": "",
     "output_type": "error",
     "traceback": [
      "\u001b[1;31mRunning cells with 'c:\\Windows\\py.exe' requires the ipykernel package.\n",
      "\u001b[1;31mRun the following command to install 'ipykernel' into the Python environment. \n",
      "\u001b[1;31mCommand: 'c:/Windows/py.exe -m pip install ipykernel -U --user --force-reinstall'"
     ]
    }
   ],
   "source": [
    "# There are 8 categorical features in the data: airline, flight, source_city, departure_time, stops, arrival_time, destination_city, class"
   ]
  },
  {
   "cell_type": "markdown",
   "metadata": {
    "id": "NY01NoXk2uNH"
   },
   "source": [
    "## Statistical interpretation of data"
   ]
  },
  {
   "cell_type": "code",
   "execution_count": null,
   "metadata": {
    "colab": {
     "base_uri": "https://localhost:8080/",
     "height": 300
    },
    "id": "1gqkIdKM2kTM",
    "outputId": "d84c46b4-adad-4ce3-b14d-8df276d17ed7"
   },
   "outputs": [
    {
     "ename": "",
     "evalue": "",
     "output_type": "error",
     "traceback": [
      "\u001b[1;31mRunning cells with 'c:\\Windows\\py.exe' requires the ipykernel package.\n",
      "\u001b[1;31mRun the following command to install 'ipykernel' into the Python environment. \n",
      "\u001b[1;31mCommand: 'c:/Windows/py.exe -m pip install ipykernel -U --user --force-reinstall'"
     ]
    }
   ],
   "source": [
    "df.describe()"
   ]
  },
  {
   "cell_type": "code",
   "execution_count": null,
   "metadata": {
    "colab": {
     "base_uri": "https://localhost:8080/"
    },
    "id": "ZaGDQ1-F203b",
    "outputId": "40850aee-15e4-41e3-af5e-ea901d3dda3e"
   },
   "outputs": [
    {
     "ename": "",
     "evalue": "",
     "output_type": "error",
     "traceback": [
      "\u001b[1;31mRunning cells with 'c:\\Windows\\py.exe' requires the ipykernel package.\n",
      "\u001b[1;31mRun the following command to install 'ipykernel' into the Python environment. \n",
      "\u001b[1;31mCommand: 'c:/Windows/py.exe -m pip install ipykernel -U --user --force-reinstall'"
     ]
    }
   ],
   "source": [
    "print (df['price'].median())"
   ]
  },
  {
   "cell_type": "code",
   "execution_count": null,
   "metadata": {},
   "outputs": [
    {
     "ename": "",
     "evalue": "",
     "output_type": "error",
     "traceback": [
      "\u001b[1;31mRunning cells with 'c:\\Windows\\py.exe' requires the ipykernel package.\n",
      "\u001b[1;31mRun the following command to install 'ipykernel' into the Python environment. \n",
      "\u001b[1;31mCommand: 'c:/Windows/py.exe -m pip install ipykernel -U --user --force-reinstall'"
     ]
    }
   ],
   "source": [
    "# Median of the price of tickets are 7425.0"
   ]
  },
  {
   "cell_type": "code",
   "execution_count": null,
   "metadata": {
    "colab": {
     "base_uri": "https://localhost:8080/",
     "height": 530
    },
    "id": "V4DIiX68238o",
    "outputId": "f6e1ccb1-8715-4b25-a287-b207109dc579"
   },
   "outputs": [
    {
     "ename": "",
     "evalue": "",
     "output_type": "error",
     "traceback": [
      "\u001b[1;31mRunning cells with 'c:\\Windows\\py.exe' requires the ipykernel package.\n",
      "\u001b[1;31mRun the following command to install 'ipykernel' into the Python environment. \n",
      "\u001b[1;31mCommand: 'c:/Windows/py.exe -m pip install ipykernel -U --user --force-reinstall'"
     ]
    }
   ],
   "source": [
    "plt.style.use('fivethirtyeight')\n",
    "plt.figure(figsize = (15,5))\n",
    "\n",
    "plt.subplot(1,2,1)\n",
    "sns.boxplot(x = 'price', data = df, color=\"purple\")\n",
    "plt.title('Price Ranges',fontsize=16)\n",
    "plt.xlabel('Price',fontsize=12)\n",
    "\n",
    "plt.subplot(1,2,2)\n",
    "sns.histplot(x = 'price', data = df, kde = True, color=\"purple\")\n",
    "plt.title('Histogram',fontsize=16)\n",
    "plt.xlabel('Price',fontsize=12)\n",
    "plt.ylabel('The Number of Flights',fontsize=12)\n",
    "plt.show()"
   ]
  },
  {
   "cell_type": "code",
   "execution_count": null,
   "metadata": {},
   "outputs": [
    {
     "ename": "",
     "evalue": "",
     "output_type": "error",
     "traceback": [
      "\u001b[1;31mRunning cells with 'c:\\Windows\\py.exe' requires the ipykernel package.\n",
      "\u001b[1;31mRun the following command to install 'ipykernel' into the Python environment. \n",
      "\u001b[1;31mCommand: 'c:/Windows/py.exe -m pip install ipykernel -U --user --force-reinstall'"
     ]
    }
   ],
   "source": [
    "# As the mean price is 20890, the median is 7425. \n",
    "# The histogram graph shows a right-skewed distribution. The majority of prices in the data are between 1000 and 20000, on the other hand the tail of the distribution extends far past these peaks. \n",
    "# This can be related with the price difference between economy and business class."
   ]
  },
  {
   "cell_type": "markdown",
   "metadata": {},
   "source": [
    "## Variation of ticket price between Economy and Business class"
   ]
  },
  {
   "cell_type": "code",
   "execution_count": null,
   "metadata": {},
   "outputs": [
    {
     "ename": "",
     "evalue": "",
     "output_type": "error",
     "traceback": [
      "\u001b[1;31mRunning cells with 'c:\\Windows\\py.exe' requires the ipykernel package.\n",
      "\u001b[1;31mRun the following command to install 'ipykernel' into the Python environment. \n",
      "\u001b[1;31mCommand: 'c:/Windows/py.exe -m pip install ipykernel -U --user --force-reinstall'"
     ]
    }
   ],
   "source": [
    "# To understand the price difference between the economy and business class, price histogram for economy and business seperately need to be plotted"
   ]
  },
  {
   "cell_type": "code",
   "execution_count": null,
   "metadata": {
    "id": "0RplHuIi3M2Z"
   },
   "outputs": [
    {
     "ename": "",
     "evalue": "",
     "output_type": "error",
     "traceback": [
      "\u001b[1;31mRunning cells with 'c:\\Windows\\py.exe' requires the ipykernel package.\n",
      "\u001b[1;31mRun the following command to install 'ipykernel' into the Python environment. \n",
      "\u001b[1;31mCommand: 'c:/Windows/py.exe -m pip install ipykernel -U --user --force-reinstall'"
     ]
    }
   ],
   "source": [
    "df1 = df.loc[df[\"class\"]=='Economy']\n",
    "df2 = df.loc[df[\"class\"]=='Business']"
   ]
  },
  {
   "cell_type": "code",
   "execution_count": null,
   "metadata": {
    "colab": {
     "base_uri": "https://localhost:8080/"
    },
    "id": "MVmGK5mT4L5u",
    "outputId": "c2df838e-2868-4f81-899c-55e2fc08ed97"
   },
   "outputs": [
    {
     "ename": "",
     "evalue": "",
     "output_type": "error",
     "traceback": [
      "\u001b[1;31mRunning cells with 'c:\\Windows\\py.exe' requires the ipykernel package.\n",
      "\u001b[1;31mRun the following command to install 'ipykernel' into the Python environment. \n",
      "\u001b[1;31mCommand: 'c:/Windows/py.exe -m pip install ipykernel -U --user --force-reinstall'"
     ]
    }
   ],
   "source": [
    "print (df1['price'].median())\n",
    "print (df2['price'].median())"
   ]
  },
  {
   "cell_type": "code",
   "execution_count": null,
   "metadata": {
    "colab": {
     "base_uri": "https://localhost:8080/"
    },
    "id": "3UL5I7Fs4SFb",
    "outputId": "6eda798a-42ba-4842-9b29-417366216a49"
   },
   "outputs": [
    {
     "ename": "",
     "evalue": "",
     "output_type": "error",
     "traceback": [
      "\u001b[1;31mRunning cells with 'c:\\Windows\\py.exe' requires the ipykernel package.\n",
      "\u001b[1;31mRun the following command to install 'ipykernel' into the Python environment. \n",
      "\u001b[1;31mCommand: 'c:/Windows/py.exe -m pip install ipykernel -U --user --force-reinstall'"
     ]
    }
   ],
   "source": [
    "print (df1['price'].mean())\n",
    "print (df2['price'].mean())"
   ]
  },
  {
   "cell_type": "code",
   "execution_count": null,
   "metadata": {},
   "outputs": [
    {
     "ename": "",
     "evalue": "",
     "output_type": "error",
     "traceback": [
      "\u001b[1;31mRunning cells with 'c:\\Windows\\py.exe' requires the ipykernel package.\n",
      "\u001b[1;31mRun the following command to install 'ipykernel' into the Python environment. \n",
      "\u001b[1;31mCommand: 'c:/Windows/py.exe -m pip install ipykernel -U --user --force-reinstall'"
     ]
    }
   ],
   "source": [
    "# Median and mean price of economy class is 5772.0 and 6572.34 respectively.\n",
    "# Median and mean price of business class is 53164.0 and 52540.08 respectively.  "
   ]
  },
  {
   "cell_type": "code",
   "execution_count": null,
   "metadata": {
    "colab": {
     "base_uri": "https://localhost:8080/",
     "height": 925
    },
    "id": "TB-x_-rO4UrG",
    "outputId": "53787b6a-6024-45c7-e1fd-46b59468365e"
   },
   "outputs": [
    {
     "ename": "",
     "evalue": "",
     "output_type": "error",
     "traceback": [
      "\u001b[1;31mRunning cells with 'c:\\Windows\\py.exe' requires the ipykernel package.\n",
      "\u001b[1;31mRun the following command to install 'ipykernel' into the Python environment. \n",
      "\u001b[1;31mCommand: 'c:/Windows/py.exe -m pip install ipykernel -U --user --force-reinstall'"
     ]
    }
   ],
   "source": [
    "plt.style.use('fivethirtyeight')\n",
    "plt.figure(figsize = (15,10))\n",
    "\n",
    "plt.subplots_adjust(left=0.1,\n",
    "                    bottom=0.1,\n",
    "                    right=0.9,\n",
    "                    top=0.9,\n",
    "                    wspace=0.4,\n",
    "                    hspace=0.4)\n",
    "\n",
    "plt.subplot(2,2,1)\n",
    "sns.boxplot(y = 'class', x='price', data = df.loc[df[\"class\"]=='Economy'], color=\"steelblue\")\n",
    "plt.title('Price Range of Economy Class',fontsize=16)\n",
    "plt.xlabel('Price',fontsize=12)\n",
    "\n",
    "plt.subplot(2,2,3)\n",
    "sns.boxplot(y = 'class', x='price', data = df.loc[df[\"class\"]=='Business'], color=\"firebrick\")\n",
    "plt.title('Price Range of Business Class',fontsize=16)\n",
    "plt.xlabel('Price',fontsize=12)\n",
    "\n",
    "plt.subplot(2,2,2)\n",
    "sns.histplot(x = 'price', data = df.loc[df[\"class\"]=='Economy'], kde = True, hue='class')\n",
    "plt.title('Histogram of Economy Class',fontsize=16)\n",
    "plt.xlabel('Price',fontsize=12)\n",
    "plt.ylabel('The Number of Flights',fontsize=12)\n",
    "\n",
    "plt.subplot(2,2,4)\n",
    "sns.histplot(x = 'price', data = df.loc[df[\"class\"]=='Business'], kde = True, hue='class', palette='rocket')\n",
    "plt.title('Histogram of Business Class',fontsize=16)\n",
    "plt.xlabel('Price',fontsize=12)\n",
    "plt.ylabel('The Number of Flights',fontsize=12)\n",
    "plt.show()"
   ]
  },
  {
   "cell_type": "code",
   "execution_count": null,
   "metadata": {},
   "outputs": [
    {
     "ename": "",
     "evalue": "",
     "output_type": "error",
     "traceback": [
      "\u001b[1;31mRunning cells with 'c:\\Windows\\py.exe' requires the ipykernel package.\n",
      "\u001b[1;31mRun the following command to install 'ipykernel' into the Python environment. \n",
      "\u001b[1;31mCommand: 'c:/Windows/py.exe -m pip install ipykernel -U --user --force-reinstall'"
     ]
    }
   ],
   "source": [
    "# Most of the prices in economy class are between 1000 and 8000. The histogram graph shows no skew distribution.\n",
    "# Most of the prices in business class are between 12000 and 60000.The histogram graph shows no skew distribution."
   ]
  },
  {
   "cell_type": "code",
   "execution_count": null,
   "metadata": {},
   "outputs": [
    {
     "ename": "",
     "evalue": "",
     "output_type": "error",
     "traceback": [
      "\u001b[1;31mRunning cells with 'c:\\Windows\\py.exe' requires the ipykernel package.\n",
      "\u001b[1;31mRun the following command to install 'ipykernel' into the Python environment. \n",
      "\u001b[1;31mCommand: 'c:/Windows/py.exe -m pip install ipykernel -U --user --force-reinstall'"
     ]
    }
   ],
   "source": [
    "# It can be concluded that ticket prices vary between classes as the mean price of Business class tickets are almost 8 times of the mean price of Economy Class tickets."
   ]
  },
  {
   "cell_type": "markdown",
   "metadata": {},
   "source": [
    "## Variation of ticket prices between Airlines"
   ]
  },
  {
   "cell_type": "code",
   "execution_count": null,
   "metadata": {
    "colab": {
     "base_uri": "https://localhost:8080/",
     "height": 551
    },
    "id": "F8-R8tE24r9s",
    "outputId": "71e8ce08-d542-40ef-a6c1-267403d8c25c"
   },
   "outputs": [
    {
     "ename": "",
     "evalue": "",
     "output_type": "error",
     "traceback": [
      "\u001b[1;31mRunning cells with 'c:\\Windows\\py.exe' requires the ipykernel package.\n",
      "\u001b[1;31mRun the following command to install 'ipykernel' into the Python environment. \n",
      "\u001b[1;31mCommand: 'c:/Windows/py.exe -m pip install ipykernel -U --user --force-reinstall'"
     ]
    }
   ],
   "source": [
    "plt.style.use('fivethirtyeight')\n",
    "plt.figure(figsize=(15,5))\n",
    "sns.boxplot(x=df['airline'],y=df['price'],palette='husl')\n",
    "plt.title('Price Ranges by Airlines',fontsize=16)\n",
    "plt.xlabel('Airline',fontsize=12)\n",
    "plt.ylabel('Price',fontsize=12)\n",
    "plt.show()"
   ]
  },
  {
   "cell_type": "code",
   "execution_count": null,
   "metadata": {},
   "outputs": [
    {
     "ename": "",
     "evalue": "",
     "output_type": "error",
     "traceback": [
      "\u001b[1;31mRunning cells with 'c:\\Windows\\py.exe' requires the ipykernel package.\n",
      "\u001b[1;31mRun the following command to install 'ipykernel' into the Python environment. \n",
      "\u001b[1;31mCommand: 'c:/Windows/py.exe -m pip install ipykernel -U --user --force-reinstall'"
     ]
    }
   ],
   "source": [
    "# Vistara and Air India have wider Price range and they have expensive tickets than other airlines.\n",
    "# Since there is price variance between the price of Economy and Business class tickets,this can be related with the distribution of economy and business tickets in the airlines flight options."
   ]
  },
  {
   "cell_type": "code",
   "execution_count": null,
   "metadata": {
    "colab": {
     "base_uri": "https://localhost:8080/",
     "height": 531
    },
    "id": "Oaan7Q-D43NW",
    "outputId": "26c26938-c133-439b-be7e-d81b1722fec7"
   },
   "outputs": [
    {
     "ename": "",
     "evalue": "",
     "output_type": "error",
     "traceback": [
      "\u001b[1;31mRunning cells with 'c:\\Windows\\py.exe' requires the ipykernel package.\n",
      "\u001b[1;31mRun the following command to install 'ipykernel' into the Python environment. \n",
      "\u001b[1;31mCommand: 'c:/Windows/py.exe -m pip install ipykernel -U --user --force-reinstall'"
     ]
    }
   ],
   "source": [
    "plt.style.use('fivethirtyeight')\n",
    "plt.figure(figsize = (15,5))\n",
    "\n",
    "plt.subplot(1,2,1)\n",
    "sns.boxplot(x = 'airline', y='price', data = df.loc[df[\"class\"]=='Economy'], palette='husl')\n",
    "plt.title('Price Ranges in Economy Class by Airlines',fontsize=16)\n",
    "plt.xlabel('Airline',fontsize=12)\n",
    "plt.ylabel('Price',fontsize=12)\n",
    "\n",
    "plt.subplot(1,2,2)\n",
    "sns.boxplot(x = 'airline', y='price', data = df.loc[df[\"class\"]=='Business'], palette='Set2')\n",
    "plt.title('Price Ranges in Business Class by Airlines',fontsize=16)\n",
    "plt.xlabel('Airline',fontsize=12)\n",
    "plt.ylabel('Price',fontsize=12)\n",
    "plt.show()"
   ]
  },
  {
   "cell_type": "code",
   "execution_count": null,
   "metadata": {},
   "outputs": [
    {
     "ename": "",
     "evalue": "",
     "output_type": "error",
     "traceback": [
      "\u001b[1;31mRunning cells with 'c:\\Windows\\py.exe' requires the ipykernel package.\n",
      "\u001b[1;31mRun the following command to install 'ipykernel' into the Python environment. \n",
      "\u001b[1;31mCommand: 'c:/Windows/py.exe -m pip install ipykernel -U --user --force-reinstall'"
     ]
    }
   ],
   "source": [
    "# As Economy Class tickets are offered by all 6 airlines, Business Class tickets are only available in two airline companies that Air India and Vistara.\n",
    "# In Economy Class, the graph shows that AirAsia offers the cheapest tickets, as Vistara and Air India offer expensive tickets compared to other airlines.\n",
    "# In Business Class, the graph shows that Vistara mostly offers expensive prices than Air India."
   ]
  },
  {
   "cell_type": "markdown",
   "metadata": {
    "id": "_cQnwpvl5ebk"
   },
   "source": [
    "## Flight duration and its effect on ticket prices"
   ]
  },
  {
   "cell_type": "code",
   "execution_count": null,
   "metadata": {
    "colab": {
     "base_uri": "https://localhost:8080/",
     "height": 525
    },
    "id": "pnkXXVPu5Qih",
    "outputId": "33c91920-3a9b-4e6a-ea5d-a96c0583aa20"
   },
   "outputs": [
    {
     "ename": "",
     "evalue": "",
     "output_type": "error",
     "traceback": [
      "\u001b[1;31mRunning cells with 'c:\\Windows\\py.exe' requires the ipykernel package.\n",
      "\u001b[1;31mRun the following command to install 'ipykernel' into the Python environment. \n",
      "\u001b[1;31mCommand: 'c:/Windows/py.exe -m pip install ipykernel -U --user --force-reinstall'"
     ]
    }
   ],
   "source": [
    "dfduration = df.groupby(['duration'])['price'].mean().reset_index()\n",
    "plt.style.use('fivethirtyeight')\n",
    "plt.figure(figsize=(15,5))\n",
    "sns.scatterplot(data=dfduration, x=\"duration\", y=\"price\")\n",
    "sns.regplot(data=dfduration, x=\"duration\", y=\"price\", order=2)\n",
    "plt.title('Ticket Price vs. Flight Duration',fontsize=16)\n",
    "plt.xlabel('Duration',fontsize=12)\n",
    "plt.ylabel('Price',fontsize=12)\n",
    "plt.show()"
   ]
  },
  {
   "cell_type": "code",
   "execution_count": null,
   "metadata": {},
   "outputs": [
    {
     "ename": "",
     "evalue": "",
     "output_type": "error",
     "traceback": [
      "\u001b[1;31mRunning cells with 'c:\\Windows\\py.exe' requires the ipykernel package.\n",
      "\u001b[1;31mRun the following command to install 'ipykernel' into the Python environment. \n",
      "\u001b[1;31mCommand: 'c:/Windows/py.exe -m pip install ipykernel -U --user --force-reinstall'"
     ]
    }
   ],
   "source": [
    "# The regression curve shows the relationship between duration and ticket price. According to the graph, ticket price increases as the flight duration increases till 20 hours. After 20 hours, the ticket price decreases as the flight duration increases."
   ]
  },
  {
   "cell_type": "markdown",
   "metadata": {
    "id": "p6Pe_V_t5s7q"
   },
   "source": [
    "## Effect of stops on ticket prices"
   ]
  },
  {
   "cell_type": "code",
   "execution_count": null,
   "metadata": {
    "colab": {
     "base_uri": "https://localhost:8080/",
     "height": 979
    },
    "id": "xZx7lUPj5jLR",
    "outputId": "be1f7bff-87b2-4461-c6ab-c574776a36ed"
   },
   "outputs": [
    {
     "ename": "",
     "evalue": "",
     "output_type": "error",
     "traceback": [
      "\u001b[1;31mRunning cells with 'c:\\Windows\\py.exe' requires the ipykernel package.\n",
      "\u001b[1;31mRun the following command to install 'ipykernel' into the Python environment. \n",
      "\u001b[1;31mCommand: 'c:/Windows/py.exe -m pip install ipykernel -U --user --force-reinstall'"
     ]
    }
   ],
   "source": [
    "plt.style.use('fivethirtyeight')\n",
    "plt.figure(figsize = (15,10))\n",
    "\n",
    "plt.subplot(2,1,1)\n",
    "sns.boxplot(x=\"airline\", y=\"price\",\n",
    "            hue=\"stops\", palette='husl',\n",
    "            data=df.loc[df[\"class\"]=='Economy'])\n",
    "sns.despine(offset=10, trim=True)\n",
    "plt.title('Price Ranges by the Number of Stops by Airlines in Economy Class',fontsize=16)\n",
    "plt.xlabel('Airline',fontsize=12)\n",
    "plt.ylabel('Price',fontsize=12)\n",
    "\n",
    "plt.subplot(2,1,2)\n",
    "sns.boxplot(x=\"airline\", y=\"price\",\n",
    "            hue=\"stops\", palette='husl',\n",
    "            data=df.loc[df[\"class\"]=='Business'])\n",
    "sns.despine(offset=10, trim=True)\n",
    "plt.title('Price Ranges by the Number of Stops by Airlines in Business Class',fontsize=16)\n",
    "plt.xlabel('Airline',fontsize=12)\n",
    "plt.ylabel('Price',fontsize=12)\n",
    "\n",
    "plt.tight_layout(pad=2.0)"
   ]
  },
  {
   "cell_type": "code",
   "execution_count": null,
   "metadata": {},
   "outputs": [
    {
     "ename": "",
     "evalue": "",
     "output_type": "error",
     "traceback": [
      "\u001b[1;31mRunning cells with 'c:\\Windows\\py.exe' requires the ipykernel package.\n",
      "\u001b[1;31mRun the following command to install 'ipykernel' into the Python environment. \n",
      "\u001b[1;31mCommand: 'c:/Windows/py.exe -m pip install ipykernel -U --user --force-reinstall'"
     ]
    }
   ],
   "source": [
    "# In Economy Class, the graph shows that the more stops there are, the higher ticket price there are for all airlines except for Air Asia. The ticket price ranges of Air Asia for different number of stops seem similar. For this reason, The Air Asia can be the low cost airline company.\n",
    "# In Business Class, the graph shows that the more stops there are, the higher ticket price there are for all two airlines.\n",
    "\n",
    "# For both classes, we can say that the number of stops effect the ticket price."
   ]
  },
  {
   "cell_type": "markdown",
   "metadata": {
    "id": "HPUGKCUz6CG2"
   },
   "source": [
    "## Effect of remaining days in departure on ticket prices"
   ]
  },
  {
   "cell_type": "code",
   "execution_count": null,
   "metadata": {
    "colab": {
     "base_uri": "https://localhost:8080/",
     "height": 530
    },
    "id": "MDUjbWzL5rBA",
    "outputId": "3990e5e2-dcfa-4ead-a15f-b821bbbbdd67"
   },
   "outputs": [
    {
     "ename": "",
     "evalue": "",
     "output_type": "error",
     "traceback": [
      "\u001b[1;31mRunning cells with 'c:\\Windows\\py.exe' requires the ipykernel package.\n",
      "\u001b[1;31mRun the following command to install 'ipykernel' into the Python environment. \n",
      "\u001b[1;31mCommand: 'c:/Windows/py.exe -m pip install ipykernel -U --user --force-reinstall'"
     ]
    }
   ],
   "source": [
    "dfdaysleft = df.groupby(['days_left'])['price'].mean().reset_index()\n",
    "plt.style.use('fivethirtyeight')\n",
    "plt.figure(figsize=(15,5))\n",
    "sns.scatterplot(data=dfdaysleft, x=\"days_left\", y=\"price\")\n",
    "plt.title('Ticket Price vs. Days Left for Departure',fontsize=16)\n",
    "plt.xlabel('Days Left for Departure',fontsize=12)\n",
    "plt.ylabel('Price',fontsize=12)\n",
    "plt.show()"
   ]
  },
  {
   "cell_type": "code",
   "execution_count": null,
   "metadata": {
    "colab": {
     "base_uri": "https://localhost:8080/",
     "height": 530
    },
    "id": "StDXw5im6HMQ",
    "outputId": "8b270aa5-58be-4817-8b11-6f8ac918cd88"
   },
   "outputs": [
    {
     "ename": "",
     "evalue": "",
     "output_type": "error",
     "traceback": [
      "\u001b[1;31mRunning cells with 'c:\\Windows\\py.exe' requires the ipykernel package.\n",
      "\u001b[1;31mRun the following command to install 'ipykernel' into the Python environment. \n",
      "\u001b[1;31mCommand: 'c:/Windows/py.exe -m pip install ipykernel -U --user --force-reinstall'"
     ]
    }
   ],
   "source": [
    "plt.style.use('fivethirtyeight')\n",
    "plt.figure(figsize=(15,5))\n",
    "ax = plt.axes()\n",
    "sns.regplot(x=dfdaysleft.loc[dfdaysleft[\"days_left\"]==1].days_left, y=dfdaysleft.loc[dfdaysleft[\"days_left\"]==1].price, fit_reg=False, ax=ax)\n",
    "sns.regplot(x=dfdaysleft.loc[(dfdaysleft[\"days_left\"]>1)&(dfdaysleft[\"days_left\"]<20)].days_left, y=dfdaysleft.loc[(dfdaysleft[\"days_left\"]>1)&(dfdaysleft[\"days_left\"]<20)].price, fit_reg=True, ax=ax)\n",
    "sns.regplot(x=dfdaysleft.loc[dfdaysleft[\"days_left\"]>=20].days_left, y=dfdaysleft.loc[dfdaysleft[\"days_left\"]>=20].price, fit_reg=True, ax=ax)\n",
    "plt.title('Ticket Price vs. Days Left for Departure',fontsize=16)\n",
    "plt.xlabel('Days Left for Departure',fontsize=12)\n",
    "plt.ylabel('Price',fontsize=12)\n",
    "plt.show()"
   ]
  },
  {
   "cell_type": "code",
   "execution_count": null,
   "metadata": {
    "colab": {
     "base_uri": "https://localhost:8080/",
     "height": 533
    },
    "id": "657oL0PO6J9f",
    "outputId": "79c784d1-41c0-49d8-a6b9-0d05a2e1f9a3"
   },
   "outputs": [
    {
     "ename": "",
     "evalue": "",
     "output_type": "error",
     "traceback": [
      "\u001b[1;31mRunning cells with 'c:\\Windows\\py.exe' requires the ipykernel package.\n",
      "\u001b[1;31mRun the following command to install 'ipykernel' into the Python environment. \n",
      "\u001b[1;31mCommand: 'c:/Windows/py.exe -m pip install ipykernel -U --user --force-reinstall'"
     ]
    }
   ],
   "source": [
    "dfdaysleft2 = df.groupby(['days_left','airline'])['price'].mean().reset_index()\n",
    "plt.figure(figsize=(15,5))\n",
    "sns.scatterplot(data=dfdaysleft2,x='days_left',y='price',color='magenta',hue='airline',palette='husl')\n",
    "plt.title('Days Left For Departure Vs. Ticket Price of each Airline',fontsize=16)\n",
    "plt.legend(fontsize=8, loc='upper right')\n",
    "plt.xlabel('Days Left for Departure',fontsize=12)\n",
    "plt.ylabel('Price',fontsize=12)\n",
    "plt.show()"
   ]
  },
  {
   "cell_type": "markdown",
   "metadata": {
    "id": "YHQ9I_V06Q65"
   },
   "source": [
    "1. The scatter plots show the relationship between days left for the departure and ticket price. In the plots there are two patterns. The first pattern is stable ticket price between 20 and 50 days left for the departure. The second pattern is negative relationship between the days left and ticket price between 2 and 20 days left for the departure. For this reason, we can say that days left for the departure effects the ticket price when there are less than 20 days for departure.\n",
    "\n",
    "\n",
    "2. Additionally, ticket prices of Vistara and Air India drop one day before the flight, as the ticket prices of other airlines keep increase as the day left for departure decreases to one day. This reverse pattern can be related to the fact that Vistara and Air India offer business class tickets, as other airlines offer only economy class tickets. The demand and fill rate change pattern from two days left to one day left can be different for business and economy class tickets."
   ]
  },
  {
   "cell_type": "markdown",
   "metadata": {
    "id": "f6hBrlf26WE0"
   },
   "source": [
    "**Do the departure time and arrival time effect ticket prices?**"
   ]
  },
  {
   "cell_type": "code",
   "execution_count": null,
   "metadata": {
    "colab": {
     "base_uri": "https://localhost:8080/",
     "height": 941
    },
    "id": "vDzdFqTz6MiZ",
    "outputId": "aaeef34d-2637-4f90-e4bf-e82f22d98819"
   },
   "outputs": [
    {
     "ename": "",
     "evalue": "",
     "output_type": "error",
     "traceback": [
      "\u001b[1;31mRunning cells with 'c:\\Windows\\py.exe' requires the ipykernel package.\n",
      "\u001b[1;31mRun the following command to install 'ipykernel' into the Python environment. \n",
      "\u001b[1;31mCommand: 'c:/Windows/py.exe -m pip install ipykernel -U --user --force-reinstall'"
     ]
    }
   ],
   "source": [
    "plt.style.use('fivethirtyeight')\n",
    "plt.figure(figsize=(15,10))\n",
    "plt.subplot(2,1,1)\n",
    "sns.boxplot(x='departure_time',y='price',data=df,palette='husl')\n",
    "plt.title('Price Ranges by Departure Time',fontsize=16)\n",
    "plt.xlabel('Departure Time',fontsize=12)\n",
    "plt.ylabel('Price',fontsize=12)\n",
    "plt.subplot(2,1,2)\n",
    "sns.boxplot(x='arrival_time',y='price',data=df,palette='husl')\n",
    "plt.title('Price Ranges by Arrival Time',fontsize=16)\n",
    "plt.xlabel('Arrival Time',fontsize=12)\n",
    "plt.ylabel('Price',fontsize=12)\n",
    "plt.tight_layout(pad=2.0)\n",
    "plt.show()"
   ]
  },
  {
   "cell_type": "markdown",
   "metadata": {
    "id": "wev7Clkx6ePl"
   },
   "source": [
    "Flights leaving or arriving at late night have the cheaper prices compared to other times. In addition to late night, flights arriving in the early morning or leaving in the afternoon are cheaper than other options. On the other hand, flights leaving at night have the expensive prices compared to other times."
   ]
  },
  {
   "cell_type": "markdown",
   "metadata": {
    "id": "h1t_mIGG6niZ"
   },
   "source": [
    "**Do the Source City and Destination City effect ticket prices?**"
   ]
  },
  {
   "cell_type": "code",
   "execution_count": null,
   "metadata": {
    "colab": {
     "base_uri": "https://localhost:8080/",
     "height": 941
    },
    "id": "YaP2kjjC6dLt",
    "outputId": "147c16a0-b3c7-4a1d-9983-9b397cc30eb5"
   },
   "outputs": [
    {
     "ename": "",
     "evalue": "",
     "output_type": "error",
     "traceback": [
      "\u001b[1;31mRunning cells with 'c:\\Windows\\py.exe' requires the ipykernel package.\n",
      "\u001b[1;31mRun the following command to install 'ipykernel' into the Python environment. \n",
      "\u001b[1;31mCommand: 'c:/Windows/py.exe -m pip install ipykernel -U --user --force-reinstall'"
     ]
    }
   ],
   "source": [
    "plt.style.use('fivethirtyeight')\n",
    "plt.figure(figsize=(15,10))\n",
    "plt.subplot(2,1,1)\n",
    "sns.boxplot(x='source_city',y='price',data=df,palette='husl')\n",
    "plt.title('Price Ranges by the Source City',fontsize=16)\n",
    "plt.xlabel('Source City',fontsize=12)\n",
    "plt.ylabel('Price',fontsize=12)\n",
    "plt.subplot(2,1,2)\n",
    "sns.boxplot(x='destination_city',y='price',data=df,palette='husl')\n",
    "plt.title('Price Ranges by the Destination City',fontsize=16)\n",
    "plt.xlabel('Destination City',fontsize=12)\n",
    "plt.ylabel('Price',fontsize=12)\n",
    "plt.tight_layout(pad=2.0)\n",
    "plt.show()"
   ]
  },
  {
   "cell_type": "code",
   "execution_count": null,
   "metadata": {
    "colab": {
     "base_uri": "https://localhost:8080/",
     "height": 872
    },
    "id": "2aDPq_Pk6072",
    "outputId": "d5ff9356-dd28-4238-b883-60936014d6bd"
   },
   "outputs": [
    {
     "ename": "",
     "evalue": "",
     "output_type": "error",
     "traceback": [
      "\u001b[1;31mRunning cells with 'c:\\Windows\\py.exe' requires the ipykernel package.\n",
      "\u001b[1;31mRun the following command to install 'ipykernel' into the Python environment. \n",
      "\u001b[1;31mCommand: 'c:/Windows/py.exe -m pip install ipykernel -U --user --force-reinstall'"
     ]
    }
   ],
   "source": [
    "plt.style.use('fivethirtyeight')\n",
    "plt.figure(figsize=(15,5))\n",
    "ax = sns.relplot(col=\"source_city\", y=\"price\", kind=\"line\",x='destination_city', data=df, col_wrap=3, style='source_city')\n",
    "ax.fig.subplots_adjust(top=0.9)\n",
    "ax.fig.suptitle('Ticket Prices by Source City and Destination City',fontsize=16)\n",
    "plt.show()"
   ]
  },
  {
   "cell_type": "markdown",
   "metadata": {
    "id": "FK-4KxYX66xa"
   },
   "source": [
    "Flights leaving from or arriving at Delhi have the cheaper prices compared to other source and destination cities. On the other hand, other source and destination cities have similar price ranges."
   ]
  },
  {
   "cell_type": "markdown",
   "metadata": {
    "id": "jokhH-1e7APt"
   },
   "source": [
    "**Which features effect the ticket prices mostly?**"
   ]
  },
  {
   "cell_type": "markdown",
   "metadata": {
    "id": "s41OLzZ87KBI"
   },
   "source": [
    "Firstly, I will conduct correlation analysis to understand linear relationship between features and price. Since there are 8 categoric variables in the data, I will encode them via dummy variables."
   ]
  },
  {
   "cell_type": "code",
   "execution_count": null,
   "metadata": {
    "id": "2mXzLYxl63WK"
   },
   "outputs": [
    {
     "ename": "",
     "evalue": "",
     "output_type": "error",
     "traceback": [
      "\u001b[1;31mRunning cells with 'c:\\Windows\\py.exe' requires the ipykernel package.\n",
      "\u001b[1;31mRun the following command to install 'ipykernel' into the Python environment. \n",
      "\u001b[1;31mCommand: 'c:/Windows/py.exe -m pip install ipykernel -U --user --force-reinstall'"
     ]
    }
   ],
   "source": [
    "df_bk=df.copy()"
   ]
  },
  {
   "cell_type": "code",
   "execution_count": null,
   "metadata": {
    "id": "7B29HgAa7Nel"
   },
   "outputs": [
    {
     "ename": "",
     "evalue": "",
     "output_type": "error",
     "traceback": [
      "\u001b[1;31mRunning cells with 'c:\\Windows\\py.exe' requires the ipykernel package.\n",
      "\u001b[1;31mRun the following command to install 'ipykernel' into the Python environment. \n",
      "\u001b[1;31mCommand: 'c:/Windows/py.exe -m pip install ipykernel -U --user --force-reinstall'"
     ]
    }
   ],
   "source": [
    "def preprocessing(df):\n",
    "    df[\"stops\"] = df[\"stops\"].replace({'zero':0,'one':1,'two_or_more':2}).astype(int)\n",
    "    df[\"class\"] = df[\"class\"].replace({'Economy':0,'Business':1}).astype(int)\n",
    "    dummies_variables = [\"airline\",\"source_city\",\"destination_city\",\"departure_time\",\"arrival_time\"]\n",
    "    dummies = pd.get_dummies(df[dummies_variables], drop_first= True)\n",
    "    df = pd.concat([df,dummies],axis=1)\n",
    "    df = df.drop([\"flight\",\"airline\",\"source_city\",\"destination_city\",\"departure_time\",\"arrival_time\"],axis=1)   \n",
    "    return df"
   ]
  },
  {
   "cell_type": "code",
   "execution_count": null,
   "metadata": {
    "id": "zMK_DSpN7Pth"
   },
   "outputs": [
    {
     "ename": "",
     "evalue": "",
     "output_type": "error",
     "traceback": [
      "\u001b[1;31mRunning cells with 'c:\\Windows\\py.exe' requires the ipykernel package.\n",
      "\u001b[1;31mRun the following command to install 'ipykernel' into the Python environment. \n",
      "\u001b[1;31mCommand: 'c:/Windows/py.exe -m pip install ipykernel -U --user --force-reinstall'"
     ]
    }
   ],
   "source": [
    "df_preprocessed = preprocessing(df)"
   ]
  },
  {
   "cell_type": "code",
   "execution_count": null,
   "metadata": {
    "colab": {
     "base_uri": "https://localhost:8080/",
     "height": 270
    },
    "id": "wwkMpEkO7SLS",
    "outputId": "3e78eb8b-750a-4e33-950e-2b74402f3966"
   },
   "outputs": [
    {
     "ename": "",
     "evalue": "",
     "output_type": "error",
     "traceback": [
      "\u001b[1;31mRunning cells with 'c:\\Windows\\py.exe' requires the ipykernel package.\n",
      "\u001b[1;31mRun the following command to install 'ipykernel' into the Python environment. \n",
      "\u001b[1;31mCommand: 'c:/Windows/py.exe -m pip install ipykernel -U --user --force-reinstall'"
     ]
    }
   ],
   "source": [
    "df_preprocessed.head()"
   ]
  },
  {
   "cell_type": "markdown",
   "metadata": {
    "id": "0NIpxJjl7YZn"
   },
   "source": [
    "**Correlation Analysis¶**"
   ]
  },
  {
   "cell_type": "code",
   "execution_count": null,
   "metadata": {
    "colab": {
     "base_uri": "https://localhost:8080/",
     "height": 1000
    },
    "id": "iS9zo5z37VQ7",
    "outputId": "1c0dae49-179f-4b23-cfa5-2eb3b0e1a403"
   },
   "outputs": [
    {
     "ename": "",
     "evalue": "",
     "output_type": "error",
     "traceback": [
      "\u001b[1;31mRunning cells with 'c:\\Windows\\py.exe' requires the ipykernel package.\n",
      "\u001b[1;31mRun the following command to install 'ipykernel' into the Python environment. \n",
      "\u001b[1;31mCommand: 'c:/Windows/py.exe -m pip install ipykernel -U --user --force-reinstall'"
     ]
    }
   ],
   "source": [
    "df_preprocessed.corr().T"
   ]
  },
  {
   "cell_type": "code",
   "execution_count": null,
   "metadata": {
    "colab": {
     "base_uri": "https://localhost:8080/",
     "height": 1000
    },
    "id": "vczyTHz87hFA",
    "outputId": "27b6440a-1133-44cd-bd6d-3976f1e2cba6"
   },
   "outputs": [
    {
     "ename": "",
     "evalue": "",
     "output_type": "error",
     "traceback": [
      "\u001b[1;31mRunning cells with 'c:\\Windows\\py.exe' requires the ipykernel package.\n",
      "\u001b[1;31mRun the following command to install 'ipykernel' into the Python environment. \n",
      "\u001b[1;31mCommand: 'c:/Windows/py.exe -m pip install ipykernel -U --user --force-reinstall'"
     ]
    }
   ],
   "source": [
    "mask = np.triu(np.ones_like(df_preprocessed.corr(), dtype=bool))\n",
    "plt.figure(figsize = (20,20))\n",
    "corrMatrix = df_preprocessed.corr()\n",
    "sns.heatmap(corrMatrix, mask=mask, annot=True)\n",
    "plt.title('Heatmap of Correlation Matrix',fontsize=16)\n",
    "plt.show()"
   ]
  },
  {
   "cell_type": "markdown",
   "metadata": {
    "id": "boemcZiq7slh"
   },
   "source": [
    "According to Correlation matrix, there are strong correlation with Class and Price. It can be also concluded from the price range analysis in Class detail. In order to understand the predictive power of other features on ticket price, I will also implement mutual information."
   ]
  },
  {
   "cell_type": "code",
   "execution_count": null,
   "metadata": {
    "id": "VTqwebSO7j1D"
   },
   "outputs": [
    {
     "ename": "",
     "evalue": "",
     "output_type": "error",
     "traceback": [
      "\u001b[1;31mRunning cells with 'c:\\Windows\\py.exe' requires the ipykernel package.\n",
      "\u001b[1;31mRun the following command to install 'ipykernel' into the Python environment. \n",
      "\u001b[1;31mCommand: 'c:/Windows/py.exe -m pip install ipykernel -U --user --force-reinstall'"
     ]
    }
   ],
   "source": [
    "def make_mi_scores(X, y):\n",
    "    X = X.copy()\n",
    "    for colname in X.select_dtypes([\"object\", \"category\"]):\n",
    "        X[colname], _ = X[colname].factorize()\n",
    "    discrete_features = [pd.api.types.is_integer_dtype(t) for t in X.dtypes]\n",
    "    mi_scores = mutual_info_regression(X, y, discrete_features=discrete_features, random_state=0)\n",
    "    mi_scores = pd.Series(mi_scores, name=\"MI Scores\", index=X.columns)\n",
    "    mi_scores = mi_scores.sort_values(ascending=False)\n",
    "    return mi_scores\n",
    "\n",
    "def plot_mi_scores(scores):\n",
    "    scores = scores.sort_values(ascending=True)\n",
    "    width = np.arange(len(scores))\n",
    "    ticks = list(scores.index)\n",
    "    plt.barh(width, scores)\n",
    "    plt.yticks(width, ticks)\n",
    "    plt.title(\"Mutual Information Scores\")"
   ]
  },
  {
   "cell_type": "code",
   "execution_count": null,
   "metadata": {
    "colab": {
     "base_uri": "https://localhost:8080/"
    },
    "id": "3Ox9pwFL7xZM",
    "outputId": "ca13761c-751a-46a4-816b-1e0cdf89a1b4"
   },
   "outputs": [
    {
     "ename": "",
     "evalue": "",
     "output_type": "error",
     "traceback": [
      "\u001b[1;31mRunning cells with 'c:\\Windows\\py.exe' requires the ipykernel package.\n",
      "\u001b[1;31mRun the following command to install 'ipykernel' into the Python environment. \n",
      "\u001b[1;31mCommand: 'c:/Windows/py.exe -m pip install ipykernel -U --user --force-reinstall'"
     ]
    }
   ],
   "source": [
    "X = df_preprocessed.copy()\n",
    "y = X.pop('price')\n",
    "\n",
    "mi_scores = make_mi_scores(X, y)\n",
    "\n",
    "print(mi_scores)"
   ]
  },
  {
   "cell_type": "code",
   "execution_count": null,
   "metadata": {
    "colab": {
     "base_uri": "https://localhost:8080/",
     "height": 496
    },
    "id": "cv8gPa8G70--",
    "outputId": "94e46a72-5492-4aa0-80ad-6ed30160c32b"
   },
   "outputs": [
    {
     "ename": "",
     "evalue": "",
     "output_type": "error",
     "traceback": [
      "\u001b[1;31mRunning cells with 'c:\\Windows\\py.exe' requires the ipykernel package.\n",
      "\u001b[1;31mRun the following command to install 'ipykernel' into the Python environment. \n",
      "\u001b[1;31mCommand: 'c:/Windows/py.exe -m pip install ipykernel -U --user --force-reinstall'"
     ]
    }
   ],
   "source": [
    "plt.figure(dpi=100, figsize=(8, 5))\n",
    "plot_mi_scores(mi_scores.head(10))"
   ]
  },
  {
   "cell_type": "markdown",
   "metadata": {
    "id": "pWaKnaXv-CAp"
   },
   "source": []
  },
  {
   "cell_type": "markdown",
   "metadata": {
    "id": "05S1onTI-CIj"
   },
   "source": [
    "# <p style=\"background-color:LightSteelBlue;font-size:100%;text-align:center;border-radius:10px 10px;height:40px;padding-top: 5px;\"> 2. Predictive  Analytics </p>"
   ]
  },
  {
   "cell_type": "code",
   "execution_count": null,
   "metadata": {
    "id": "OFgw2-3i9_fS"
   },
   "outputs": [
    {
     "ename": "",
     "evalue": "",
     "output_type": "error",
     "traceback": [
      "\u001b[1;31mRunning cells with 'c:\\Windows\\py.exe' requires the ipykernel package.\n",
      "\u001b[1;31mRun the following command to install 'ipykernel' into the Python environment. \n",
      "\u001b[1;31mCommand: 'c:/Windows/py.exe -m pip install ipykernel -U --user --force-reinstall'"
     ]
    }
   ],
   "source": [
    "df_bk=df.copy()\n"
   ]
  },
  {
   "cell_type": "markdown",
   "metadata": {
    "id": "BdlQx90j-RdO"
   },
   "source": [
    "**Encoding Categorical Data**"
   ]
  },
  {
   "cell_type": "markdown",
   "metadata": {
    "id": "aZsvEcgp-Y3E"
   },
   "source": [
    "I will encode the categoric variables for the regression."
   ]
  },
  {
   "cell_type": "code",
   "execution_count": null,
   "metadata": {
    "id": "s1rfyTQx-TzY"
   },
   "outputs": [
    {
     "ename": "",
     "evalue": "",
     "output_type": "error",
     "traceback": [
      "\u001b[1;31mRunning cells with 'c:\\Windows\\py.exe' requires the ipykernel package.\n",
      "\u001b[1;31mRun the following command to install 'ipykernel' into the Python environment. \n",
      "\u001b[1;31mCommand: 'c:/Windows/py.exe -m pip install ipykernel -U --user --force-reinstall'"
     ]
    }
   ],
   "source": [
    "from sklearn.preprocessing import LabelEncoder\n",
    "le=LabelEncoder()\n",
    "for col in df.columns:\n",
    "    if df[col].dtype=='object':\n",
    "        df[col]=le.fit_transform(df[col])"
   ]
  },
  {
   "cell_type": "code",
   "execution_count": null,
   "metadata": {
    "id": "ODmyzJaB-cgZ"
   },
   "outputs": [
    {
     "ename": "",
     "evalue": "",
     "output_type": "error",
     "traceback": [
      "\u001b[1;31mRunning cells with 'c:\\Windows\\py.exe' requires the ipykernel package.\n",
      "\u001b[1;31mRun the following command to install 'ipykernel' into the Python environment. \n",
      "\u001b[1;31mCommand: 'c:/Windows/py.exe -m pip install ipykernel -U --user --force-reinstall'"
     ]
    }
   ],
   "source": [
    "x=df.drop(['price'],axis=1)\n",
    "y=df['price']"
   ]
  },
  {
   "cell_type": "markdown",
   "metadata": {
    "id": "KaIOSrm2-jyz"
   },
   "source": [
    "Splitting the Data as Train and Test Sets"
   ]
  },
  {
   "cell_type": "markdown",
   "metadata": {
    "id": "T9Fm1hZ_-tm3"
   },
   "source": [
    "I will split the data into 2 parts as train and test sets."
   ]
  },
  {
   "cell_type": "code",
   "execution_count": null,
   "metadata": {
    "colab": {
     "base_uri": "https://localhost:8080/"
    },
    "id": "QYRPqpJO-rXd",
    "outputId": "65e4973c-889f-49ef-8e18-af4edfd0230a"
   },
   "outputs": [
    {
     "ename": "",
     "evalue": "",
     "output_type": "error",
     "traceback": [
      "\u001b[1;31mRunning cells with 'c:\\Windows\\py.exe' requires the ipykernel package.\n",
      "\u001b[1;31mRun the following command to install 'ipykernel' into the Python environment. \n",
      "\u001b[1;31mCommand: 'c:/Windows/py.exe -m pip install ipykernel -U --user --force-reinstall'"
     ]
    }
   ],
   "source": [
    "from sklearn.model_selection import train_test_split\n",
    "x_train,x_test,y_train,y_test=train_test_split(x,y,test_size=0.30,random_state=42)\n",
    "x_train.shape,x_test.shape,y_train.shape,y_test.shape"
   ]
  },
  {
   "cell_type": "markdown",
   "metadata": {
    "id": "Sf6egKx9-1MB"
   },
   "source": [
    " Normalizing Data"
   ]
  },
  {
   "cell_type": "markdown",
   "metadata": {
    "id": "-8auRkzv-57c"
   },
   "source": [
    "* Before defining regression models, I will normalize the data to make every datapoint have the same scale so each feature will be equally important. I will use the Min-Max normalization."
   ]
  },
  {
   "cell_type": "code",
   "execution_count": null,
   "metadata": {
    "id": "JdNjMq8j-w7S"
   },
   "outputs": [
    {
     "ename": "",
     "evalue": "",
     "output_type": "error",
     "traceback": [
      "\u001b[1;31mRunning cells with 'c:\\Windows\\py.exe' requires the ipykernel package.\n",
      "\u001b[1;31mRun the following command to install 'ipykernel' into the Python environment. \n",
      "\u001b[1;31mCommand: 'c:/Windows/py.exe -m pip install ipykernel -U --user --force-reinstall'"
     ]
    }
   ],
   "source": [
    "from sklearn.preprocessing import MinMaxScaler\n",
    "mmscaler=MinMaxScaler(feature_range=(0,1))\n",
    "x_train=mmscaler.fit_transform(x_train)\n",
    "x_test=mmscaler.fit_transform(x_test)\n",
    "x_train=pd.DataFrame(x_train)\n",
    "x_test=pd.DataFrame(x_test)"
   ]
  },
  {
   "cell_type": "markdown",
   "metadata": {
    "id": "2cXnZ4Bv_BHv"
   },
   "source": [
    "Building the Regression Models\n"
   ]
  },
  {
   "cell_type": "code",
   "execution_count": null,
   "metadata": {
    "colab": {
     "base_uri": "https://localhost:8080/",
     "height": 111
    },
    "id": "solDfRsb-9Yy",
    "outputId": "512666c9-72c2-4bc6-e5ea-9d6cf7e0bb65"
   },
   "outputs": [
    {
     "ename": "",
     "evalue": "",
     "output_type": "error",
     "traceback": [
      "\u001b[1;31mRunning cells with 'c:\\Windows\\py.exe' requires the ipykernel package.\n",
      "\u001b[1;31mRun the following command to install 'ipykernel' into the Python environment. \n",
      "\u001b[1;31mCommand: 'c:/Windows/py.exe -m pip install ipykernel -U --user --force-reinstall'"
     ]
    }
   ],
   "source": [
    "a={'Model Name':[], 'Mean_Absolute_Error_MAE':[] ,'Adj_R_Squared':[] ,'Root_Mean_Squared_Error_RMSE':[] ,'Mean_Absolute_Percentage_Error_MAPE':[] ,'Mean_Squared_Error_MSE':[] ,'Root_Mean_Squared_Log_Error_RMSLE':[] ,'R2_score':[]}\n",
    "Results=pd.DataFrame(a)\n",
    "Results.head()"
   ]
  },
  {
   "cell_type": "code",
   "execution_count": null,
   "metadata": {
    "colab": {
     "base_uri": "https://localhost:8080/"
    },
    "id": "u-RDW5mI_KkI",
    "outputId": "858f95d7-9420-474f-c47b-4b572d0b1f3c"
   },
   "outputs": [
    {
     "ename": "",
     "evalue": "",
     "output_type": "error",
     "traceback": [
      "\u001b[1;31mRunning cells with 'c:\\Windows\\py.exe' requires the ipykernel package.\n",
      "\u001b[1;31mRun the following command to install 'ipykernel' into the Python environment. \n",
      "\u001b[1;31mCommand: 'c:/Windows/py.exe -m pip install ipykernel -U --user --force-reinstall'"
     ]
    }
   ],
   "source": [
    "from sklearn.linear_model import LinearRegression\n",
    "from sklearn.tree import DecisionTreeRegressor\n",
    "from sklearn.ensemble import RandomForestRegressor\n",
    "import xgboost as xgb\n",
    "from sklearn.ensemble import ExtraTreesRegressor\n",
    "from sklearn.ensemble import BaggingRegressor\n",
    "\n",
    "modellr = LinearRegression()\n",
    "modeldtr = DecisionTreeRegressor()\n",
    "modelrfr = RandomForestRegressor()\n",
    "modelxgr = xgb.XGBRegressor()\n",
    "modeletr = ExtraTreesRegressor()\n",
    "modelbgr = BaggingRegressor()\n",
    "\n",
    "MM = [modellr, modeldtr, modelrfr, modelxgr, modeletr, modelbgr]\n",
    "\n",
    "for models in MM:\n",
    "    \n",
    "    models.fit(x_train, y_train)\n",
    "\n",
    "    y_pred = models.predict(x_test)\n",
    "    \n",
    "    print('Model Name: ', models)\n",
    "\n",
    "    from sklearn import metrics\n",
    "    \n",
    "    print('Mean Absolute Error (MAE):', round(metrics.mean_absolute_error(y_test, y_pred),3))  \n",
    "    print('Mean Squared Error (MSE):', round(metrics.mean_squared_error(y_test, y_pred),3))  \n",
    "    print('Root Mean Squared Error (RMSE):', round(np.sqrt(metrics.mean_squared_error(y_test, y_pred)),3))\n",
    "    print('R2_score:', round(metrics.r2_score(y_test, y_pred),6))\n",
    "    print('Root Mean Squared Log Error (RMSLE):', round(np.log(np.sqrt(metrics.mean_squared_error(y_test, y_pred))),3))\n",
    "    \n",
    "    def MAPE (y_test, y_pred):\n",
    "        y_test, y_pred = np.array(y_test), np.array(y_pred)\n",
    "        return np.mean(np.abs((y_test - y_pred) / y_test)) * 100\n",
    "    result = MAPE(y_test, y_pred)\n",
    "    print('Mean Absolute Percentage Error (MAPE):', round(result, 2), '%')\n",
    "    \n",
    "    r_squared = round(metrics.r2_score(y_test, y_pred),6)\n",
    "    adjusted_r_squared = round(1 - (1-r_squared)*(len(y)-1)/(len(y)-x.shape[1]-1),6)\n",
    "    print('Adj R Squared: ', adjusted_r_squared)\n",
    "    print('------------------------------------------------------------------------------------------------------------')\n",
    "    new_row = {'Model Name' : models,\n",
    "               'Mean_Absolute_Error_MAE' : metrics.mean_absolute_error(y_test, y_pred),\n",
    "               'Adj_R_Squared' : adjusted_r_squared,\n",
    "               'Root_Mean_Squared_Error_RMSE' : np.sqrt(metrics.mean_squared_error(y_test, y_pred)),\n",
    "               'Mean_Absolute_Percentage_Error_MAPE' : result,\n",
    "               'Mean_Squared_Error_MSE' : metrics.mean_squared_error(y_test, y_pred),\n",
    "               'Root_Mean_Squared_Log_Error_RMSLE': np.log(np.sqrt(metrics.mean_squared_error(y_test, y_pred))),\n",
    "               'R2_score' : metrics.r2_score(y_test, y_pred)}\n",
    "    Results = Results.append(new_row, ignore_index=True)"
   ]
  },
  {
   "cell_type": "code",
   "execution_count": null,
   "metadata": {
    "id": "K8laOCRi_e28"
   },
   "outputs": [
    {
     "ename": "",
     "evalue": "",
     "output_type": "error",
     "traceback": [
      "\u001b[1;31mRunning cells with 'c:\\Windows\\py.exe' requires the ipykernel package.\n",
      "\u001b[1;31mRun the following command to install 'ipykernel' into the Python environment. \n",
      "\u001b[1;31mCommand: 'c:/Windows/py.exe -m pip install ipykernel -U --user --force-reinstall'"
     ]
    }
   ],
   "source": [
    "modeletr.fit(x_train, y_train)\n",
    "    \n",
    "y_pred = modeletr.predict(x_test)"
   ]
  },
  {
   "cell_type": "code",
   "execution_count": null,
   "metadata": {
    "id": "-Sro9E7hAI-5"
   },
   "outputs": [
    {
     "ename": "",
     "evalue": "",
     "output_type": "error",
     "traceback": [
      "\u001b[1;31mRunning cells with 'c:\\Windows\\py.exe' requires the ipykernel package.\n",
      "\u001b[1;31mRun the following command to install 'ipykernel' into the Python environment. \n",
      "\u001b[1;31mCommand: 'c:/Windows/py.exe -m pip install ipykernel -U --user --force-reinstall'"
     ]
    }
   ],
   "source": [
    "out=pd.DataFrame({'Price_actual':y_test,'Price_pred':y_pred})\n",
    "result=df_bk.merge(out,left_index=True,right_index=True)"
   ]
  },
  {
   "cell_type": "code",
   "execution_count": null,
   "metadata": {
    "colab": {
     "base_uri": "https://localhost:8080/",
     "height": 499
    },
    "id": "qgIO9JnuAknT",
    "outputId": "557abe97-1632-4a53-956b-cf1660ce87e1"
   },
   "outputs": [
    {
     "ename": "",
     "evalue": "",
     "output_type": "error",
     "traceback": [
      "\u001b[1;31mRunning cells with 'c:\\Windows\\py.exe' requires the ipykernel package.\n",
      "\u001b[1;31mRun the following command to install 'ipykernel' into the Python environment. \n",
      "\u001b[1;31mCommand: 'c:/Windows/py.exe -m pip install ipykernel -U --user --force-reinstall'"
     ]
    }
   ],
   "source": [
    "plt.figure(figsize=(15,5))\n",
    "sns.regplot(x='Price_actual',y='Price_pred',data=result,color='magenta')\n",
    "plt.title('Actual Price  Vs.  Predicted Price ',fontsize=16)\n",
    "plt.xlabel('Actual Price',fontsize=12)\n",
    "plt.ylabel('Predicted Price',fontsize=12)\n",
    "r_squared = round(metrics.r2_score(y_test, y_pred),6)\n",
    "Mean_Absolute_Error_MAE =  round(metrics.mean_absolute_error(y_test, y_pred),3)\n",
    "plt.text(90000,25000,'$ R^{2} $=' + str(r_squared),fontsize=14)\n",
    "plt.text(90000,15000,'MAE =' + str(Mean_Absolute_Error_MAE),fontsize=14)\n",
    "plt.show()"
   ]
  },
  {
   "cell_type": "markdown",
   "metadata": {
    "id": "N-9WsMuSBLfb"
   },
   "source": [
    "conclusion"
   ]
  },
  {
   "cell_type": "markdown",
   "metadata": {
    "id": "vb4zpJ5lBJgI"
   },
   "source": [
    "1. The ticket prices vary between classes as the mean price of Business class tickets are almost 8 times of the mean price of Economy Class tickets.\n",
    "\n",
    "2. Vistara and Air India have wider price range than other airline companies and they have expensive tickets than others, as business class tickets are only available on Vistara and Air India. On the other hand, Air Asia offers the cheapest tickets among other airline companies. When we compare the ticket prices of Vistara and Air India, Vistara mostly offers expensive prices than Air India.\n",
    "\n",
    "3. As the flight duration increases till 20 hours, ticket price also increases. After 20 hours, the ticket price decreases as the flight duration increases.\n",
    "\n",
    "4. The more stops there are, the higher ticket price there are for all airlines, except for Air Asia. The ticket price ranges of Air Asia for different number of stops are similar. For this reason, The Air Asia can be the low cost airline company. \n",
    "\n",
    "5. As the number of days left for the departure decreases between 20 and 2 days, ticket price increases. On the other hand, ticket prices remain almost stable between 50 and 20 days left for the departure. Additionally, in business class, it is possible to find cheaper tickets in one day before the departure than the day before.\n",
    "\n",
    "6. Flights leaving or arriving at late night have the cheaper prices compared to other times. In addition to late night, flights arriving in the early morning or leaving in the afternoon are cheaper than other options. On the other hand, flights leaving at night have the expensive prices compared to other times.\n",
    "\n",
    "7. Flights leaving from or arriving at Delhi have the cheaper prices compared to other source and destination cities. On the other hand, other source and destination cities have similar price ranges.\n",
    "\n",
    "8. According to the mutual information scores, knowing the duration, class, whether the airline is Vistara or Air India, the number of days left for departure, whether the source city or destination city is Delhi or Mumbai and the number of stops can result in better prediction of ticket prices.\n",
    "\n",
    "9. According to the comparison of the result of regression models, Extra Trees Regressor, Random Forest Regressor and Bagging Regressor models have the higher R squared scores and adjusted R squared values, as they have lower error values compared to other models. Extra Trees Regressor gives the best result with R^2 score equals to 0.984700 and MAE score equals to 1151.718790."
   ]
  },
  {
   "cell_type": "code",
   "execution_count": null,
   "metadata": {
    "id": "xQGGzLblBCgC"
   },
   "outputs": [
    {
     "ename": "",
     "evalue": "",
     "output_type": "error",
     "traceback": [
      "\u001b[1;31mRunning cells with 'c:\\Windows\\py.exe' requires the ipykernel package.\n",
      "\u001b[1;31mRun the following command to install 'ipykernel' into the Python environment. \n",
      "\u001b[1;31mCommand: 'c:/Windows/py.exe -m pip install ipykernel -U --user --force-reinstall'"
     ]
    }
   ],
   "source": []
  },
  {
   "cell_type": "code",
   "execution_count": null,
   "metadata": {},
   "outputs": [
    {
     "ename": "",
     "evalue": "",
     "output_type": "error",
     "traceback": [
      "\u001b[1;31mRunning cells with 'c:\\Windows\\py.exe' requires the ipykernel package.\n",
      "\u001b[1;31mRun the following command to install 'ipykernel' into the Python environment. \n",
      "\u001b[1;31mCommand: 'c:/Windows/py.exe -m pip install ipykernel -U --user --force-reinstall'"
     ]
    }
   ],
   "source": []
  },
  {
   "cell_type": "code",
   "execution_count": null,
   "metadata": {},
   "outputs": [
    {
     "ename": "",
     "evalue": "",
     "output_type": "error",
     "traceback": [
      "\u001b[1;31mRunning cells with 'c:\\Windows\\py.exe' requires the ipykernel package.\n",
      "\u001b[1;31mRun the following command to install 'ipykernel' into the Python environment. \n",
      "\u001b[1;31mCommand: 'c:/Windows/py.exe -m pip install ipykernel -U --user --force-reinstall'"
     ]
    }
   ],
   "source": []
  }
 ],
 "metadata": {
  "colab": {
   "provenance": []
  },
  "kernelspec": {
   "display_name": "Python 3 (ipykernel)",
   "language": "python",
   "name": "python3"
  },
  "language_info": {
   "codemirror_mode": {
    "name": "ipython",
    "version": 3
   },
   "file_extension": ".py",
   "mimetype": "text/x-python",
   "name": "python",
   "nbconvert_exporter": "python",
   "pygments_lexer": "ipython3",
   "version": "3.11.4"
  }
 },
 "nbformat": 4,
 "nbformat_minor": 1
}
